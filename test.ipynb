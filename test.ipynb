{
 "cells": [
  {
   "cell_type": "code",
   "execution_count": 19,
   "metadata": {},
   "outputs": [],
   "source": [
    "#할게 좀 많아사ㅓ 설명은 생략할게요... 죄송합니다 근데 gpt 없이 + 찾아보는거 없이 다 혼자 해결했습니다"
   ]
  },
  {
   "cell_type": "code",
   "execution_count": 15,
   "metadata": {},
   "outputs": [
    {
     "name": "stdout",
     "output_type": "stream",
     "text": [
      "30 60,30 60,30 60,30 60,30 60\n"
     ]
    }
   ],
   "source": [
    "#문제1\n",
    "n = input()\n",
    "nlen = len(n)\n",
    "n = n.upper()\n",
    "while(nlen > 1):\n",
    "    nlen -= 1\n",
    "    print(n, end = ',')\n",
    "\n",
    "print(n)"
   ]
  },
  {
   "cell_type": "code",
   "execution_count": 16,
   "metadata": {},
   "outputs": [
    {
     "ename": "ValueError",
     "evalue": "invalid literal for int() with base 10: '45 30 60 25 50 -999'",
     "output_type": "error",
     "traceback": [
      "\u001b[0;31m---------------------------------------------------------------------------\u001b[0m",
      "\u001b[0;31mValueError\u001b[0m                                Traceback (most recent call last)",
      "Cell \u001b[0;32mIn[16], line 2\u001b[0m\n\u001b[1;32m      1\u001b[0m \u001b[38;5;66;03m#문제 2\u001b[39;00m\n\u001b[0;32m----> 2\u001b[0m n \u001b[38;5;241m=\u001b[39m \u001b[38;5;28mint\u001b[39m(\u001b[38;5;28minput\u001b[39m()) \u001b[38;5;241m+\u001b[39m \u001b[38;5;241m1\u001b[39m\n\u001b[1;32m      3\u001b[0m \u001b[38;5;28;01mfor\u001b[39;00m i \u001b[38;5;129;01min\u001b[39;00m \u001b[38;5;28mrange\u001b[39m(\u001b[38;5;241m1\u001b[39m, n):\n\u001b[1;32m      4\u001b[0m     \u001b[38;5;28mprint\u001b[39m(i, i\u001b[38;5;241m*\u001b[39m\u001b[38;5;241m*\u001b[39m\u001b[38;5;241m3\u001b[39m)\n",
      "\u001b[0;31mValueError\u001b[0m: invalid literal for int() with base 10: '45 30 60 25 50 -999'"
     ]
    }
   ],
   "source": [
    "#문제 2\n",
    "n = int(input()) + 1\n",
    "for i in range(1, n):\n",
    "    print(i, i**3)"
   ]
  },
  {
   "cell_type": "code",
   "execution_count": 12,
   "metadata": {},
   "outputs": [
    {
     "name": "stdout",
     "output_type": "stream",
     "text": [
      "pythonisgreat\n"
     ]
    }
   ],
   "source": [
    "#문제 3\n",
    "arr = []\n",
    "while(1):\n",
    "    n = input()\n",
    "    if not n:\n",
    "        break\n",
    "    arr.append(n)\n",
    "\n",
    "print(''.join(arr))"
   ]
  },
  {
   "cell_type": "code",
   "execution_count": 17,
   "metadata": {},
   "outputs": [
    {
     "name": "stdout",
     "output_type": "stream",
     "text": [
      "Humidity OK\n",
      "Humidity OK\n",
      "Humidity OK\n",
      "Warning!\n"
     ]
    }
   ],
   "source": [
    "#문제 4\n",
    "minn, maxn = map(int, input().split())\n",
    "\n",
    "arr = map(int, input().split())\n",
    "\n",
    "for i in arr:\n",
    "    if minn <= i <= maxn:\n",
    "        print('Humidity OK')\n",
    "    elif i == -999:\n",
    "        break\n",
    "    else:\n",
    "        print(\"Warning!\")\n",
    "        break"
   ]
  },
  {
   "cell_type": "code",
   "execution_count": 18,
   "metadata": {},
   "outputs": [
    {
     "name": "stdout",
     "output_type": "stream",
     "text": [
      "12\n",
      "aaaaa\n"
     ]
    }
   ],
   "source": [
    "#문제 5\n",
    "def repeat_n_times(x, n):\n",
    "        print(x * n)\n",
    "\n",
    "if __name__ == \"__main__\":\n",
    "        repeat_n_times(3, 4)\n",
    "        repeat_n_times('a', 5)\n",
    "\n",
    "#파이썬은 자동 형변환이라서 따로 설정 필요 x"
   ]
  },
  {
   "cell_type": "code",
   "execution_count": 21,
   "metadata": {},
   "outputs": [
    {
     "name": "stdout",
     "output_type": "stream",
     "text": [
      "15\n"
     ]
    }
   ],
   "source": [
    "#문제 6\n",
    "multiply_by_n =  lambda n : lambda x: x * n\n",
    "\n",
    "doubler = multiply_by_n(3)\n",
    "print(doubler(5))"
   ]
  },
  {
   "cell_type": "code",
   "execution_count": 27,
   "metadata": {},
   "outputs": [
    {
     "name": "stdout",
     "output_type": "stream",
     "text": [
      "['1', '2', '3', '4', '5']\n"
     ]
    }
   ],
   "source": [
    "#문제 7\n",
    "target = [1,2,3,4,5]\n",
    "strtarget = list(map(lambda x: str(x), target))\n",
    "\n",
    "print(strtarget)"
   ]
  },
  {
   "cell_type": "code",
   "execution_count": 30,
   "metadata": {},
   "outputs": [
    {
     "name": "stdout",
     "output_type": "stream",
     "text": [
      "['1', '-2', '9', '-4', '25']\n"
     ]
    }
   ],
   "source": [
    "#문제 8\n",
    "def your_funtion(n):\n",
    "    return list(map(lambda x : str(x**2) if x > 0 else str(x) , n))\n",
    "\n",
    "target = [1, -2, 3, -4, 5]\n",
    "result = your_funtion(target)\n",
    "print(result)"
   ]
  },
  {
   "cell_type": "code",
   "execution_count": null,
   "metadata": {},
   "outputs": [],
   "source": [
    "#문제 9\n",
    "n = int(input())\n",
    "if n > 50:\n",
    "    print(\"과속입니다\")\n",
    "else:\n",
    "    print(\"정상속도입니다. 안전운행 하세요.\")"
   ]
  },
  {
   "cell_type": "code",
   "execution_count": null,
   "metadata": {},
   "outputs": [],
   "source": [
    "#문제 10\n",
    "Distance = int(input())\n",
    "\n",
    "\n",
    "if Distance <= 3000:\n",
    "    print(\"걸어가세요\")\n",
    "elif Distance < 100000:\n",
    "    print(\"버스타세요\")\n",
    "else:\n",
    "    print(\"택시타세요\")\n",
    "\n",
    "print(\"수고하셨습니다\")"
   ]
  },
  {
   "cell_type": "code",
   "execution_count": 34,
   "metadata": {},
   "outputs": [
    {
     "name": "stdout",
     "output_type": "stream",
     "text": [
      "['셀트리온', '종근당']\n"
     ]
    },
    {
     "ename": "NameError",
     "evalue": "name 'arr' is not defined",
     "output_type": "error",
     "traceback": [
      "\u001b[0;31m---------------------------------------------------------------------------\u001b[0m",
      "\u001b[0;31mNameError\u001b[0m                                 Traceback (most recent call last)",
      "Cell \u001b[0;32mIn[34], line 11\u001b[0m\n\u001b[1;32m      8\u001b[0m \u001b[38;5;28mprint\u001b[39m(arr[\u001b[38;5;241m-\u001b[39m\u001b[38;5;241m1\u001b[39m])\n\u001b[1;32m      9\u001b[0m \u001b[38;5;28;01mdel\u001b[39;00m arr\n\u001b[0;32m---> 11\u001b[0m \u001b[38;5;28mprint\u001b[39m(arr)\n",
      "\u001b[0;31mNameError\u001b[0m: name 'arr' is not defined"
     ]
    }
   ],
   "source": [
    "#문제 11\n",
    "arr = [['삼성전자', '삼성생명', '삼성화재'], ['LG전자', 'LG화학'], ['SKT', 'SK', 'SK바이오사이언스'], ['셀트리온']]\n",
    "\n",
    "for inx, i in enumerate(arr):\n",
    "    if '셀트리온' in i:\n",
    "        arr[inx].append('종근당')\n",
    "\n",
    "print(arr[-1])\n",
    "del arr\n",
    "\n",
    "print(arr)\n"
   ]
  },
  {
   "cell_type": "code",
   "execution_count": 35,
   "metadata": {},
   "outputs": [
    {
     "name": "stdout",
     "output_type": "stream",
     "text": [
      "[1, 2, 3, 5, 6, 9, 10, 11, 14, 15, 18, 20, 24, 25, 26, 29, 31, 33, 34, 38, 40, 41, 42, 45, 50, 51, 53, 54, 56, 61, 62, 63, 65, 66, 67, 68, 69, 70, 71, 74, 75, 76, 80, 81, 85, 92, 94, 95, 96, 97]\n"
     ]
    }
   ],
   "source": [
    "#문제 12\n",
    "\n",
    "import random\n",
    "\n",
    "numlist = range(1, 101)\n",
    "s = random.sample(numlist, 50)\n",
    "\n",
    "s.sort()\n",
    "print(s)"
   ]
  },
  {
   "cell_type": "code",
   "execution_count": null,
   "metadata": {},
   "outputs": [],
   "source": [
    "#이 문제는 주신 pdf 랑 인터넷 검색을 해서 풀이하였습니다"
   ]
  },
  {
   "cell_type": "code",
   "execution_count": 43,
   "metadata": {},
   "outputs": [
    {
     "name": "stdout",
     "output_type": "stream",
     "text": [
      "=== 시작 헤더 ===\n",
      "\n",
      "125.91.48.101,8145,None,33.147.226.108,2024-Oct-28 05:49:23,2024-Oct-28 05:49:23,348,PATCH,/alerts HTTP/1.1,201,Mozilla/5.0 (Windows NT 10.0; Win64; x64),2189,-\n",
      "\"안녕하세요\"\n",
      "=== 끝 문장 ===\n",
      "\n"
     ]
    }
   ],
   "source": [
    "#마지막 문제\n",
    "\n",
    "import glob\n",
    "\n",
    "def new_make_file(**kwargs):\n",
    "    start_header = kwargs.get('start_header', '') \n",
    "    end_footer = kwargs.get('end_footer', '')\n",
    "    f1 = glob.glob(\"*.csv\") + glob.glob(\"*.txt\")\n",
    "    result = []\n",
    "    for f in f1:\n",
    "        with open(f, \"r\") as file:\n",
    "            result.append(file.readline())\n",
    "\n",
    "    output_file = \"h14.txt\"\n",
    "\n",
    "\n",
    "    with open(output_file, \"w\") as outfile:\n",
    "        if start_header:\n",
    "            outfile.write(start_header + '\\n')\n",
    "        for i in result:\n",
    "            outfile.write(i)\n",
    "\n",
    "        if end_footer:\n",
    "            outfile.write(end_footer + '\\n')\n",
    "\n",
    "\n",
    "\n",
    "\n",
    "\n",
    "new_make_file(start_header=\"=== 시작 헤더 ===\",  end_footer=\"=== 끝 문장 ===\")\n",
    "with open(\"h14.txt\", 'r') as final_output:\n",
    "        print(final_output.read())\n"
   ]
  }
 ],
 "metadata": {
  "kernelspec": {
   "display_name": "myenv",
   "language": "python",
   "name": "python3"
  },
  "language_info": {
   "codemirror_mode": {
    "name": "ipython",
    "version": 3
   },
   "file_extension": ".py",
   "mimetype": "text/x-python",
   "name": "python",
   "nbconvert_exporter": "python",
   "pygments_lexer": "ipython3",
   "version": "3.11.10"
  }
 },
 "nbformat": 4,
 "nbformat_minor": 2
}
